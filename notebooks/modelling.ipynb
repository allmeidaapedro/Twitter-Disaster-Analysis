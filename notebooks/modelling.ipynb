{
 "cells": [
  {
   "cell_type": "markdown",
   "metadata": {},
   "source": [
    "#### Análise de tweets: Desastre ou não?\n",
    "- Este é um projeto de ciência de dados de ponta a ponta (da coleta de dados ao deploy), que tem como objetivo <b>analisar</b> um conjunto de <b>tweets</b> e <b>prever a probabilidade de um tweet estar relacionado a um desastre real.</b> Portanto, trata-se de um problema de classificação binária (aprendizado supervisionado, conjunto de dados rotulado) no qual a variável dependente é 1 para o caso de tweets relacionados a desastres reais e 0 para tweets não relacionados.\n",
    "- O pipeline de solução, com base no framework <B>CRISP-DM</b>, consiste dos seguintes <b>passos:</b><br>\n",
    "\n",
    "    <b>0. Entendimento do problema de negócio.</b><br>\n",
    "    <b>1. Entendimento dos dados.</b><br>\n",
    "    <b>2. Preparação dos dados.</b><br>\n",
    "    <b>3. Modelagem.</b><br>\n",
    "    <b>4. Avaliação.</b><br>\n",
    "    <b>5. Deploy/Implantação.</b><br>\n",
    "\n",
    "- Neste notebook, será realizada a <b>modelagem para a predição da probabilidade de um tweet estar relacionado a um desastre</b>, cobrindo os passos 3 a 5 do framework supracitado. O objetivo da modelagem consiste em <b>construir um modelo</b> capaz de <b>prever essa chance acuradamente</b> e criar uma <b>Flask API</b>, de forma que seja possível prever a probabilidade de um tweet estar associado a um desastre fornecendo-o em texto.\n",
    "- Aqui, adotaremos a abordagem de <b>prever a probabilidade</b>, levando em consideração a <b>informação de confiança.</b> Isso nos permite avaliar quão provável é que um determinado tweet represente uma catástrofe real. Tal abordagem facilita a gestão de risco por parte das agências mencionadas no problema de negócio em 'eda.ipynb', possibilitando a <b>priorização da atenção</b> para tweets com maior probabilidade. Além disso, ><b>reduz a propagação de notícias falsas</b>, uma vez que rótulos binários poderiam classificar erroneamente vários tweets, especialmente ao utilizar pontos de corte mais baixos para a classificação (trade-off precision-recall).\n",
    "- Nesse sentido, <B>métricas</b> como ROC-AUC, PR-AUC, Brier Score e KS serão <b>priorizadas.</b> Entretanto, olharemos para diversas outras. Mesmo adotando o critério probabilístico, é interessante obter um bom recall. O recall pode ser interpretado como o alcance, e de fato, é melhor que \"alcancemos\" o maior número de desastres reais possível, isto é, que o modelo seja capaz de identificar uma grande parte dos tweets de fato associados a desastres.\n",
    "- O pipeline de modelagem consiste em:\n",
    "- 0. Limpeza dos dados.\n",
    "- 1. Split dos dados em treino e teste, estratificado.\n",
    "- 2. Pré-processamento de dados.\n",
    "- 3. Comparação de diversos modelos através de validação cruzada k-fold estratificada.\n",
    "- 4. Tunagem de hiperparâmetros do modelo com class_weight e otimização bayesiana.\n",
    "- 5. Avaliação final no conjunto de testes.\n",
    "- 6. Deploy.\n",
    "- Cada etapa e cada decisão tomada é abordada em detalhes abaixo. Os insights obtidos na eda guiarão as decisões daqui para frente."
   ]
  },
  {
   "cell_type": "markdown",
   "metadata": {},
   "source": [
    "Importando as bibliotecas novamente."
   ]
  },
  {
   "cell_type": "code",
   "execution_count": 126,
   "metadata": {},
   "outputs": [
    {
     "name": "stderr",
     "output_type": "stream",
     "text": [
      "[nltk_data] Downloading package stopwords to\n",
      "[nltk_data]     C:\\Users\\peedr\\AppData\\Roaming\\nltk_data...\n",
      "[nltk_data]   Package stopwords is already up-to-date!\n",
      "[nltk_data] Downloading package punkt to\n",
      "[nltk_data]     C:\\Users\\peedr\\AppData\\Roaming\\nltk_data...\n",
      "[nltk_data]   Package punkt is already up-to-date!\n",
      "[nltk_data] Downloading package wordnet to\n",
      "[nltk_data]     C:\\Users\\peedr\\AppData\\Roaming\\nltk_data...\n",
      "[nltk_data]   Package wordnet is already up-to-date!\n",
      "[nltk_data] Downloading package averaged_perceptron_tagger to\n",
      "[nltk_data]     C:\\Users\\peedr\\AppData\\Roaming\\nltk_data...\n",
      "[nltk_data]   Package averaged_perceptron_tagger is already up-to-\n",
      "[nltk_data]       date!\n"
     ]
    }
   ],
   "source": [
    "# Data manipulation and visualization.\n",
    "import pandas as pd\n",
    "import numpy as np\n",
    "import matplotlib.pyplot as plt\n",
    "import seaborn as sns\n",
    "from wordcloud import WordCloud\n",
    "\n",
    "# Modelling, cleaning and preparation.\n",
    "import re\n",
    "import nltk\n",
    "nltk.download('stopwords')\n",
    "nltk.download('punkt')\n",
    "nltk.download('wordnet')\n",
    "nltk.download('averaged_perceptron_tagger')\n",
    "from nltk.corpus import stopwords\n",
    "from nltk.tokenize import word_tokenize\n",
    "from nltk.stem import WordNetLemmatizer\n",
    "from nltk import pos_tag\n",
    "from spellchecker import SpellChecker\n",
    "from collections import Counter\n",
    "from textblob import TextBlob\n",
    "from sklearn.model_selection import train_test_split\n",
    "from sklearn.feature_extraction.text import CountVectorizer, TfidfVectorizer\n",
    "import spacy\n",
    "from sklearn.linear_model import LogisticRegression\n",
    "from sklearn.ensemble import RandomForestClassifier\n",
    "from sklearn.svm import LinearSVC\n",
    "from lightgbm import LGBMClassifier\n",
    "from sklearn.model_selection import cross_val_score, StratifiedKFold\n",
    "from sklearn.metrics import mean_absolute_error, mean_squared_error, r2_score, classification_report, roc_auc_score, confusion_matrix, roc_curve, precision_recall_curve, auc, brier_score_loss\n",
    "import time\n",
    "import math\n",
    "\n",
    "# Utils.\n",
    "from src.modelling_utils import *\n",
    "\n",
    "# Definições de cores -> todas estão numa escala de mais escura para mais clara.\n",
    "CINZA1, CINZA2, CINZA3 = '#231F20', '#414040', '#555655'\n",
    "CINZA4, CINZA5, CINZA6 = '#646369', '#76787B', '#828282'\n",
    "CINZA7, CINZA8, CINZA9 = '#929497', '#A6A6A5', '#BFBEBE'\n",
    "AZUL1, AZUL2, AZUL3, AZUL4 = '#174A7E', '#4A81BF', '#94B2D7', '#94AFC5'\n",
    "VERMELHO1, VERMELHO2, VERMELHO3, VERMELHO4, VERMELHO5 = '#DB0527', '#E23652', '#ED8293', '#F4B4BE', '#FBE6E9'\n",
    "VERDE1, VERDE2 = '#0C8040', '#9ABB59'\n",
    "LARANJA1 = '#F79747'\n",
    "AMARELO1, AMARELO2, AMARELO3, AMARELO4, AMARELO5 = '#FFC700', '#FFCC19', '#FFEB51', '#FFE37F', '#FFEEB2'\n",
    "BRANCO = '#FFFFFF'\n",
    "\n",
    "# Visualize all the columns.\n",
    "pd.set_option('display.max_columns', None)\n",
    "\n",
    "\n",
    "# Filter warnings.\n",
    "import warnings\n",
    "warnings.filterwarnings('ignore')"
   ]
  },
  {
   "cell_type": "markdown",
   "metadata": {},
   "source": [
    "Coletando novamente os dados."
   ]
  },
  {
   "cell_type": "code",
   "execution_count": 2,
   "metadata": {},
   "outputs": [],
   "source": [
    "# Reading the data.\n",
    "train_path = '../input/train.csv'\n",
    "test_path = '../input/test.csv'\n",
    "sample_path = '../input/sample_submission.csv'\n",
    "df = pd.read_csv(train_path)\n",
    "test_df = pd.read_csv(test_path)\n",
    "sample_df = pd.read_csv(sample_path)"
   ]
  },
  {
   "cell_type": "markdown",
   "metadata": {},
   "source": [
    "Rápida visualização e informação."
   ]
  },
  {
   "cell_type": "code",
   "execution_count": 3,
   "metadata": {},
   "outputs": [
    {
     "data": {
      "text/html": [
       "<div>\n",
       "<style scoped>\n",
       "    .dataframe tbody tr th:only-of-type {\n",
       "        vertical-align: middle;\n",
       "    }\n",
       "\n",
       "    .dataframe tbody tr th {\n",
       "        vertical-align: top;\n",
       "    }\n",
       "\n",
       "    .dataframe thead th {\n",
       "        text-align: right;\n",
       "    }\n",
       "</style>\n",
       "<table border=\"1\" class=\"dataframe\">\n",
       "  <thead>\n",
       "    <tr style=\"text-align: right;\">\n",
       "      <th></th>\n",
       "      <th>id</th>\n",
       "      <th>keyword</th>\n",
       "      <th>location</th>\n",
       "      <th>text</th>\n",
       "      <th>target</th>\n",
       "    </tr>\n",
       "  </thead>\n",
       "  <tbody>\n",
       "    <tr>\n",
       "      <th>0</th>\n",
       "      <td>1118</td>\n",
       "      <td>blew%20up</td>\n",
       "      <td>Brooklyn, NY</td>\n",
       "      <td>@YahooSchwab easy way to look good after the R...</td>\n",
       "      <td>0</td>\n",
       "    </tr>\n",
       "    <tr>\n",
       "      <th>1</th>\n",
       "      <td>1558</td>\n",
       "      <td>bomb</td>\n",
       "      <td>NaN</td>\n",
       "      <td>@dopeitsval ahh you're bomb baby ??</td>\n",
       "      <td>0</td>\n",
       "    </tr>\n",
       "    <tr>\n",
       "      <th>2</th>\n",
       "      <td>4830</td>\n",
       "      <td>evacuation</td>\n",
       "      <td>NaN</td>\n",
       "      <td>Run out evacuation hospital indexing remedial ...</td>\n",
       "      <td>1</td>\n",
       "    </tr>\n",
       "    <tr>\n",
       "      <th>3</th>\n",
       "      <td>3674</td>\n",
       "      <td>destroy</td>\n",
       "      <td>Trackside California</td>\n",
       "      <td>Wow Crackdown 3 uses multiple servers in multi...</td>\n",
       "      <td>0</td>\n",
       "    </tr>\n",
       "    <tr>\n",
       "      <th>4</th>\n",
       "      <td>5368</td>\n",
       "      <td>fire%20truck</td>\n",
       "      <td>NaN</td>\n",
       "      <td>wild night in the village of pugwash every fir...</td>\n",
       "      <td>1</td>\n",
       "    </tr>\n",
       "  </tbody>\n",
       "</table>\n",
       "</div>"
      ],
      "text/plain": [
       "     id       keyword              location   \n",
       "0  1118     blew%20up          Brooklyn, NY  \\\n",
       "1  1558          bomb                   NaN   \n",
       "2  4830    evacuation                   NaN   \n",
       "3  3674       destroy  Trackside California   \n",
       "4  5368  fire%20truck                   NaN   \n",
       "\n",
       "                                                text  target  \n",
       "0  @YahooSchwab easy way to look good after the R...       0  \n",
       "1                @dopeitsval ahh you're bomb baby ??       0  \n",
       "2  Run out evacuation hospital indexing remedial ...       1  \n",
       "3  Wow Crackdown 3 uses multiple servers in multi...       0  \n",
       "4  wild night in the village of pugwash every fir...       1  "
      ]
     },
     "execution_count": 3,
     "metadata": {},
     "output_type": "execute_result"
    }
   ],
   "source": [
    "df.head()"
   ]
  },
  {
   "cell_type": "code",
   "execution_count": 4,
   "metadata": {},
   "outputs": [
    {
     "name": "stdout",
     "output_type": "stream",
     "text": [
      "<class 'pandas.core.frame.DataFrame'>\n",
      "RangeIndex: 7613 entries, 0 to 7612\n",
      "Data columns (total 5 columns):\n",
      " #   Column    Non-Null Count  Dtype \n",
      "---  ------    --------------  ----- \n",
      " 0   id        7613 non-null   int64 \n",
      " 1   keyword   7552 non-null   object\n",
      " 2   location  5080 non-null   object\n",
      " 3   text      7613 non-null   object\n",
      " 4   target    7613 non-null   int64 \n",
      "dtypes: int64(2), object(3)\n",
      "memory usage: 297.5+ KB\n"
     ]
    }
   ],
   "source": [
    "df.info()"
   ]
  },
  {
   "cell_type": "code",
   "execution_count": 5,
   "metadata": {},
   "outputs": [
    {
     "name": "stdout",
     "output_type": "stream",
     "text": [
      "O dataset possui 7613 linhas e 5 colunas.\n"
     ]
    }
   ],
   "source": [
    "print(f'O dataset possui {df.shape[0]} linhas e {df.shape[1]} colunas.')"
   ]
  },
  {
   "cell_type": "markdown",
   "metadata": {},
   "source": [
    "Valores nulos e duplicados."
   ]
  },
  {
   "cell_type": "code",
   "execution_count": 6,
   "metadata": {},
   "outputs": [
    {
     "data": {
      "text/html": [
       "<div>\n",
       "<style scoped>\n",
       "    .dataframe tbody tr th:only-of-type {\n",
       "        vertical-align: middle;\n",
       "    }\n",
       "\n",
       "    .dataframe tbody tr th {\n",
       "        vertical-align: top;\n",
       "    }\n",
       "\n",
       "    .dataframe thead th {\n",
       "        text-align: right;\n",
       "    }\n",
       "</style>\n",
       "<table border=\"1\" class=\"dataframe\">\n",
       "  <thead>\n",
       "    <tr style=\"text-align: right;\">\n",
       "      <th></th>\n",
       "      <th>count</th>\n",
       "      <th>pct</th>\n",
       "    </tr>\n",
       "  </thead>\n",
       "  <tbody>\n",
       "    <tr>\n",
       "      <th>location</th>\n",
       "      <td>2533</td>\n",
       "      <td>33.272035</td>\n",
       "    </tr>\n",
       "    <tr>\n",
       "      <th>keyword</th>\n",
       "      <td>61</td>\n",
       "      <td>0.801261</td>\n",
       "    </tr>\n",
       "    <tr>\n",
       "      <th>id</th>\n",
       "      <td>0</td>\n",
       "      <td>0.000000</td>\n",
       "    </tr>\n",
       "    <tr>\n",
       "      <th>text</th>\n",
       "      <td>0</td>\n",
       "      <td>0.000000</td>\n",
       "    </tr>\n",
       "    <tr>\n",
       "      <th>target</th>\n",
       "      <td>0</td>\n",
       "      <td>0.000000</td>\n",
       "    </tr>\n",
       "  </tbody>\n",
       "</table>\n",
       "</div>"
      ],
      "text/plain": [
       "          count        pct\n",
       "location   2533  33.272035\n",
       "keyword      61   0.801261\n",
       "id            0   0.000000\n",
       "text          0   0.000000\n",
       "target        0   0.000000"
      ]
     },
     "execution_count": 6,
     "metadata": {},
     "output_type": "execute_result"
    }
   ],
   "source": [
    "isna_df = df.isna().sum().to_frame().rename(columns={0: 'count'})\n",
    "isna_df['pct'] = isna_df['count'] / len(df) * 100\n",
    "isna_df.sort_values(by=['pct'], ascending=False)"
   ]
  },
  {
   "cell_type": "code",
   "execution_count": 7,
   "metadata": {},
   "outputs": [
    {
     "name": "stdout",
     "output_type": "stream",
     "text": [
      "Observações duplicadas: 0.\n",
      "Ids duplicados: 0\n"
     ]
    }
   ],
   "source": [
    "print(f'Observações duplicadas: {df.duplicated().sum()}.')\n",
    "print(f'Ids duplicados: {df.id.duplicated().sum()}')"
   ]
  },
  {
   "cell_type": "markdown",
   "metadata": {},
   "source": [
    "#### 0. Limpeza\n",
    "- Antes dos split, é necessário limpar os dados, aplicando as mesmas transformações realizadas na eda.\n",
    "- 1. Remoção de links, tags html, @s de usuários, pontuações, caracteres especiais, números e stopwords (palavras sem natureza informativa) com o objetivo de não prejudicar a semântica, não introduzir ruído, e diminuir a dimensionalidade. Além disso, há uma questão ética em não usar o nome dos usuários. Tudo isso feito através de expressões regulares, que são padrões de texto que permitem realizar buscas complexas e operações de manipulação em strings. Um cheat sheet de referência será usado: https://www.datacamp.com/cheat-sheet/regular-expresso.\n",
    "- 2. Conversão das palavras a lowercase para padronizá-las e reduzir a dimensionalidade.\n",
    "- 3. Lematização, para manter a coerência linguística das palavras ao reduzi-las a suas raízes ou lemas. Utiliza-se part of speech tags aqui. Stemming não é aplicado pois, apesar de a lematização ser mais custosa, desejo demonstrar mais conhecimento e técnica. Além disso, no deploy, processaremos um único tweet por vez, não havendo gargalos significativos.\n",
    "- 4. Para a modelagem, estamos interessados apenas na coluna contendo os tweets como variável independente, portanto, essa será separada das outras.\n",
    "- Estes passos foram encapsulados em uma função 'clean_text' em 'modelling_utils.py', arquivo que contém funções úteis para a modelagem. "
   ]
  },
  {
   "cell_type": "code",
   "execution_count": 34,
   "metadata": {},
   "outputs": [
    {
     "data": {
      "text/html": [
       "<div>\n",
       "<style scoped>\n",
       "    .dataframe tbody tr th:only-of-type {\n",
       "        vertical-align: middle;\n",
       "    }\n",
       "\n",
       "    .dataframe tbody tr th {\n",
       "        vertical-align: top;\n",
       "    }\n",
       "\n",
       "    .dataframe thead th {\n",
       "        text-align: right;\n",
       "    }\n",
       "</style>\n",
       "<table border=\"1\" class=\"dataframe\">\n",
       "  <thead>\n",
       "    <tr style=\"text-align: right;\">\n",
       "      <th></th>\n",
       "      <th>text</th>\n",
       "      <th>target</th>\n",
       "    </tr>\n",
       "  </thead>\n",
       "  <tbody>\n",
       "    <tr>\n",
       "      <th>0</th>\n",
       "      <td>@YahooSchwab easy way to look good after the R...</td>\n",
       "      <td>0</td>\n",
       "    </tr>\n",
       "    <tr>\n",
       "      <th>1</th>\n",
       "      <td>@dopeitsval ahh you're bomb baby ??</td>\n",
       "      <td>0</td>\n",
       "    </tr>\n",
       "    <tr>\n",
       "      <th>2</th>\n",
       "      <td>Run out evacuation hospital indexing remedial ...</td>\n",
       "      <td>1</td>\n",
       "    </tr>\n",
       "    <tr>\n",
       "      <th>3</th>\n",
       "      <td>Wow Crackdown 3 uses multiple servers in multi...</td>\n",
       "      <td>0</td>\n",
       "    </tr>\n",
       "    <tr>\n",
       "      <th>4</th>\n",
       "      <td>wild night in the village of pugwash every fir...</td>\n",
       "      <td>1</td>\n",
       "    </tr>\n",
       "    <tr>\n",
       "      <th>5</th>\n",
       "      <td>This bed looks like a war zone.</td>\n",
       "      <td>0</td>\n",
       "    </tr>\n",
       "    <tr>\n",
       "      <th>6</th>\n",
       "      <td>Funds Needed for Rescued then Abandoned Cocker...</td>\n",
       "      <td>0</td>\n",
       "    </tr>\n",
       "    <tr>\n",
       "      <th>7</th>\n",
       "      <td>@kshllcenterpri1 @Progress4Ohio burning down b...</td>\n",
       "      <td>1</td>\n",
       "    </tr>\n",
       "    <tr>\n",
       "      <th>8</th>\n",
       "      <td>:: Survive??</td>\n",
       "      <td>0</td>\n",
       "    </tr>\n",
       "    <tr>\n",
       "      <th>9</th>\n",
       "      <td>Do you have an emergency drinking water plan? ...</td>\n",
       "      <td>0</td>\n",
       "    </tr>\n",
       "    <tr>\n",
       "      <th>10</th>\n",
       "      <td>As California fires rage Forest Service sounds...</td>\n",
       "      <td>1</td>\n",
       "    </tr>\n",
       "    <tr>\n",
       "      <th>11</th>\n",
       "      <td>@david_hurn @ToKTeacher Why is there something...</td>\n",
       "      <td>0</td>\n",
       "    </tr>\n",
       "    <tr>\n",
       "      <th>12</th>\n",
       "      <td>New SMP Ignition Knock (Detonation) Sensor KS3...</td>\n",
       "      <td>0</td>\n",
       "    </tr>\n",
       "    <tr>\n",
       "      <th>13</th>\n",
       "      <td>Memorial unveiled for Travis County deputy kil...</td>\n",
       "      <td>1</td>\n",
       "    </tr>\n",
       "    <tr>\n",
       "      <th>14</th>\n",
       "      <td>Live a balanced life! Balance your fear of #Al...</td>\n",
       "      <td>0</td>\n",
       "    </tr>\n",
       "  </tbody>\n",
       "</table>\n",
       "</div>"
      ],
      "text/plain": [
       "                                                 text  target\n",
       "0   @YahooSchwab easy way to look good after the R...       0\n",
       "1                 @dopeitsval ahh you're bomb baby ??       0\n",
       "2   Run out evacuation hospital indexing remedial ...       1\n",
       "3   Wow Crackdown 3 uses multiple servers in multi...       0\n",
       "4   wild night in the village of pugwash every fir...       1\n",
       "5                     This bed looks like a war zone.       0\n",
       "6   Funds Needed for Rescued then Abandoned Cocker...       0\n",
       "7   @kshllcenterpri1 @Progress4Ohio burning down b...       1\n",
       "8                                        :: Survive??       0\n",
       "9   Do you have an emergency drinking water plan? ...       0\n",
       "10  As California fires rage Forest Service sounds...       1\n",
       "11  @david_hurn @ToKTeacher Why is there something...       0\n",
       "12  New SMP Ignition Knock (Detonation) Sensor KS3...       0\n",
       "13  Memorial unveiled for Travis County deputy kil...       1\n",
       "14  Live a balanced life! Balance your fear of #Al...       0"
      ]
     },
     "execution_count": 34,
     "metadata": {},
     "output_type": "execute_result"
    }
   ],
   "source": [
    "# Separando apenas as colunas text e target para a modelagem.\n",
    "clean_df = df[['text', 'target']].copy()\n",
    "clean_df.head(15)"
   ]
  },
  {
   "cell_type": "code",
   "execution_count": 35,
   "metadata": {},
   "outputs": [
    {
     "data": {
      "text/plain": [
       "0           easy way look good ray rice fiascothat blow\n",
       "1                                   ahh youre bomb baby\n",
       "2     run evacuation hospital index remedial angiopl...\n",
       "3     wow crackdown us multiple server multiplayer u...\n",
       "4     wild night village pugwash every fire truck to...\n",
       "5                                bed look like war zone\n",
       "6               fund need rescue abandon cocker spaniel\n",
       "7            burn building mean like burnt black church\n",
       "8                                               survive\n",
       "9     emergency drink water plan download guide engl...\n",
       "10    california fire rage forest service sound alar...\n",
       "11               something place prevent skynet perhaps\n",
       "12           new smp ignition knock detonation sensor k\n",
       "13    memorial unveil travis county deputy kill sept...\n",
       "14    live balance life balance fear # allah hope me...\n",
       "Name: clean_text, dtype: object"
      ]
     },
     "execution_count": 35,
     "metadata": {},
     "output_type": "execute_result"
    }
   ],
   "source": [
    "# Acessando o resultado.\n",
    "clean_df = nlp_data_cleaning(clean_df)\n",
    "clean_df['clean_text'].head(15)"
   ]
  },
  {
   "cell_type": "markdown",
   "metadata": {},
   "source": [
    "#### 1. Split dos dados em treino e teste, estratificado.\n",
    "- Dados de teste devem ser dados que o modelo nunca viu, simulando o ambiente de produção e obtendo uma avaliação de performance confiável do nosso estimador. Por isso, este conjunto será obtido e isolado apenas para avaliação final, uma vez que já selecionamos e tunamos o melhor modelo.\n",
    "- rei especificar o parâmetro stratify=y. Isso fará com que a proporção das classes positiva (tweets relacionados a desastres) e negativa (tweets não relacionados a desastre) do target sejam mantidas em todos os conjuntos, evitando que o desbalanceamento (mesmo que sutil) afete as nossas amostras e a nossa avaliação de performance futura. Queremos o fenômeno bem representado em cada uma das amostras."
   ]
  },
  {
   "cell_type": "code",
   "execution_count": 14,
   "metadata": {},
   "outputs": [
    {
     "data": {
      "image/png": "[encoded data removed]",
      "text/plain": [
       "<Figure size 700x400 with 1 Axes>"
      ]
     },
     "metadata": {},
     "output_type": "display_data"
    }
   ],
   "source": [
    "# Agrupando os dados.\n",
    "disaster_grouped = clean_df.groupby(['target'])[['target']].count().rename(columns={'target': 'count'}).reset_index().sort_values(by=['count'], ascending=False)\n",
    "disaster_grouped['pct'] = round(disaster_grouped['count'] / np.sum(disaster_grouped['count']) * 100, 2) \n",
    "\n",
    "# Plot e customização.\n",
    "fig, ax = plt.subplots(figsize=(7, 4))\n",
    "bars = ax.bar(x=disaster_grouped['target'], height=disaster_grouped['pct'], color=[VERDE1, VERMELHO1], width=0.65)\n",
    "for bar, pct in zip(bars, disaster_grouped['pct']):\n",
    "    ax.text(bar.get_x() + bar.get_width() / 2, bar.get_height() + 0.5, f'{pct}%', ha='center', color=CINZA2, fontsize=10.5)\n",
    "ax.set_title('Distribuição de Tweets', color=CINZA2, fontweight='bold', fontsize=12, pad=30)\n",
    "ax.set_xlabel('Relacionado a Desastres', labelpad=15, color=CINZA2, fontsize=12)\n",
    "ax.set_xticks(ticks=disaster_grouped['target'], labels=['Não', 'Sim'], color=CINZA2, fontsize=10.8)\n",
    "ax.set_yticks(ticks=np.arange(0, 61, 10), labels=['0%', '10%', '20%', '30%', '40%', '50%', '60%'] , color=CINZA2, fontsize=10.8)\n",
    "ax.spines['top'].set_visible(False)\n",
    "ax.spines['right'].set_visible(False)\n",
    "ax.spines['left'].set_color(CINZA9)\n",
    "ax.spines['bottom'].set_color(CINZA9)\n",
    "plt.show()"
   ]
  },
  {
   "cell_type": "code",
   "execution_count": 79,
   "metadata": {},
   "outputs": [
    {
     "name": "stdout",
     "output_type": "stream",
     "text": [
      "Train predictor set shape: (6090,). Train target set shape: (6090,)\n",
      "Test predictor set shape: (1523,). Test target set shape: (1523,).\n"
     ]
    }
   ],
   "source": [
    "X = clean_df['clean_text']\n",
    "y = clean_df['target'].copy()\n",
    "\n",
    "X_train, X_test, y_train, y_test = train_test_split(X, y, test_size=0.2, stratify=y, random_state=42)\n",
    "\n",
    "print(f'Train predictor set shape: {X_train.shape}. Train target set shape: {y_train.shape}')\n",
    "print(f'Test predictor set shape: {X_test.shape}. Test target set shape: {y_test.shape}.')"
   ]
  },
  {
   "cell_type": "code",
   "execution_count": 80,
   "metadata": {},
   "outputs": [
    {
     "name": "stdout",
     "output_type": "stream",
     "text": [
      "Train set target classes proportions: \n",
      "target\n",
      "0    0.570279\n",
      "1    0.429721\n",
      "Name: proportion, dtype: float64\n",
      "\n",
      "Test set target classes proportions:\n",
      "target\n",
      "0    0.570584\n",
      "1    0.429416\n",
      "Name: proportion, dtype: float64\n"
     ]
    }
   ],
   "source": [
    "print(f'Train set target classes proportions: ')\n",
    "print(y_train.value_counts(normalize=True))\n",
    "print(f'\\nTest set target classes proportions:')\n",
    "print(y_test.value_counts(normalize=True))"
   ]
  },
  {
   "cell_type": "markdown",
   "metadata": {},
   "source": [
    "Perfeito! A divisão dos dados em treino e teste foi feita corretamente e a proporção das classes do target foi mantida em cada um desses conjuntos."
   ]
  },
  {
   "cell_type": "markdown",
   "metadata": {},
   "source": [
    "#### 2. Pré-processamento dos dados/Representação de texto como vetores numéricos\n",
    "- Existem três abordagens comuns para representar os tweets (texto) como vetores numéricos para treinar algoritmos de machine learning:\n",
    "- 1. Bag of Words:\n",
    "    - Cada texto é tratado como um \"saco\" (conjunto não ordenado) de palavras, ignorando a ordem e a estrutura gramatical. \n",
    "    - - 1. Tokenização: Divide o tweet em palavras individuais (tokens), considerando limpezas como remoção de pontuações, stopwords, lowercase, entre outras.\n",
    "    - - 2. Construção do Vocabulário: Cria um vocabulário único - Todas as palavras únicas presentes nos tweets.\n",
    "    - - 3. Vetorização: Representa cada tweet como um vetor, onde cada posição no vetor corresponde a uma palavra do vocabulário (coluna) e o valor na posição indica a contagem da palavra no tweet.\n",
    "    - Biblioteca Scikit-Learn implementa.\n",
    "    - Vantagem: Simplicidade e eficiência computacional.\n",
    "    - Desvantagem: Perda de informações semânticas e sobre a ordem das palavras, além da estrutura gramatical.\n",
    "    - Pode-se incluir, após o Bag of Words, o TF-IDF também. \n",
    "    - A Frequência do Termo-Inverso da Frequência do Documento (TF-IDF) é uma técnica que combina a Frequência do Termo (TF), que mede a importância de um termo em um documento específico, com a Inverso da Frequência do Documento (IDF), que penaliza termos que são muito comuns em todo o corpus. O TF-IDF é usado para avaliar a importância relativa de um termo em relação a um conjunto de documentos. Em resumo, TF-IDF destaca termos que são frequentes em um documento específico, mas não tão comuns em todo o corpus, identificando assim termos distintivos e informativos.\n",
    "- 2. Word Vectors:\n",
    "    - Representação de palavras como vetores numéricos em um espaço contínuo, capturando relações semânticas e contextuais entre palavras.\n",
    "    - Modelos treinados em grandes corpora de texto para aprender representações vetoriais, onde palavras semanticamente similares ficam próximas no espaço vetorial.\n",
    "    - Cada dimensão do vetor é uma característica específica da palavra.\n",
    "    - Biblioteca Spacy implementa.\n",
    "    - Vantagens: Captura relações semânticas e contextuais entre palavras.\n",
    "    - Desvantagem: Pode ter dificuldades com palavras raras ou fora do vocabulário durante o treinamento.\n",
    "- 3. BERT:\n",
    "    - Modelo de linguagem pré-treinado baseado em transformers. Ele utiliza uma arquitetura de transformer bidirecional para aprender representações contextuais de palavras em uma sentença. Ao contrário de modelos anteriores que processam palavras em uma única direção (da esquerda para a direita ou vice-versa), o BERT considera o contexto de todas as palavras em uma sentença, o que melhora a compreensão das nuances do significado das palavras.\n",
    "    - Biblioteca Spacy implementa.\n",
    "    - Vantagens: Compreensão contextual bidirecional, capturando nuances semânticas e melhorando o desempenho em tarefas complexas.\n",
    "    - Desvantagens: Requer recursos computacionais significativos para treinamento.\n",
    "- Considerando meus recursos computacionais limitados, escolherei apenas o Bag of Words para a representação de texto em vetores numéricos. Isso permitirá o treinamento e predição mais rápidos, facilitando também o deploy. É muito melhor para o usuário obter o resultado que ele deseja em menor tempo, do que manter-se em espera. Além disso, é esperado que essa abordagem forneça um desempenho satisfatório, uma vez que realizamos uma limpeza efetiva no conjunto de dados.\n",
    "- Ao aplicar transformações em dados de texto, como \"Bag of Words\", iremos obter matrizes esparsas. Essas matrizes são representações eficientes onde a maioria dos elementos são zeros, economizando espaço de armazenamento, pois muitas palavras podem não estar presentes em cada documento, resultando em uma matriz esparsa com apenas valores não nulos onde as palavras ocorrem.\n",
    "- Após representar os tweets como vetores numéricos que podem ser usados para treinar algoritmos de machine learning, devemos treinar classificadores. Isso será feito na próxima etapa. Por enquanto, vamos aplicar a representação escolhida abaixo:"
   ]
  },
  {
   "cell_type": "code",
   "execution_count": 132,
   "metadata": {},
   "outputs": [
    {
     "data": {
      "text/plain": [
       "<6090x73558 sparse matrix of type '<class 'numpy.int64'>'\n",
       "\twith 125913 stored elements in Compressed Sparse Row format>"
      ]
     },
     "execution_count": 132,
     "metadata": {},
     "output_type": "execute_result"
    }
   ],
   "source": [
    "# Bag of Words.\n",
    "count_vectorizer = CountVectorizer(analyzer='word',\n",
    "                                   stop_words='english',\n",
    "                                   ngram_range=(1, 3),\n",
    "                                   token_pattern=r'\\w{1,}',\n",
    "                                   )\n",
    "count_vectorizer.fit(X_train)\n",
    "\n",
    "X_train_bow = count_vectorizer.transform(X_train)\n",
    "X_test_bow = count_vectorizer.transform(X_test)\n",
    "\n",
    "# LightGBM exige tipos float para o treinamento.\n",
    "X_train_bow_float = X_train_bow.astype('float32')\n",
    "y_train_float = y_train.astype('float32')\n",
    "\n",
    "X_train_bow"
   ]
  },
  {
   "cell_type": "markdown",
   "metadata": {},
   "source": [
    "#### 3. Treinamento, comparação e seleção de modelos - Validação cruzada k-fold\n",
    "- Nesta etapa, irei comparar a performance de diferentes modelos. Para isso, utilizarei a validação cruzada k-fold para treinar cada modelo, avaliando o seu ROC-AUC.\n",
    "- Os modelos escolhidos para teste serão a Regressão Logística, Linear SVC, Random Forest e LightGBM.\n",
    "- O meu objetivo aqui é selecionar o(s) modelo(s) promissores, isto é, aqueles que apresentam o maior ROC-AUC na validação cruzada, para seguir para as etapas de tunagem de hiperparâmetros e avaliação final no conjunto de testes, simulando o ambiente de produção.\n",
    "- O ROC-AUC é uma medida que nos informa a capacidade discriminante do modelo, isto é, a capacidade de discriminar entre tweets relacionados a desastres (1) e tweets não relacionados (0). Ela consiste na área abaixo da curva ROC, que plota tpr (true positive rate, ou recall/sensibilidade) vs fpr (false positive rate, ou 1 - especificidade).\n",
    "- Na validação cruzada k-fold, dividimos o conjunto de treinamento em k folds, avaliando em cada um dos k-ésimos folds um modelo treinado nos k-1 folds. Isso permitirá que eu obtenha uma medida robusta de como cada um performa, mitigando efeitos da variabilidade dos dados. Além disso, também será evitado o overfitting, uma vez que será possível, de antemão, observar como o modelo desempenha em dados nunca antes vistos.\n",
    "- Dado o ligeiro desbalanceamento, para fins de rigorosidade de método, irei aplicar, da mesma forma que no split, uma divisão estratificada dos folds."
   ]
  },
  {
   "cell_type": "markdown",
   "metadata": {},
   "source": [
    "- Dicionário de modelos a serem avaliados."
   ]
  },
  {
   "cell_type": "code",
   "execution_count": 130,
   "metadata": {},
   "outputs": [],
   "source": [
    "models = {\n",
    "    'Logistic Regression': LogisticRegression(),\n",
    "    'Linear SVM': LinearSVC(),\n",
    "    'Random Forest': RandomForestClassifier(),\n",
    "    'LightGBM': LGBMClassifier(verbose=-1)\n",
    "}"
   ]
  },
  {
   "cell_type": "markdown",
   "metadata": {},
   "source": [
    "- Validação cruzada k-fold: Bag of Words."
   ]
  },
  {
   "cell_type": "code",
   "execution_count": 135,
   "metadata": {},
   "outputs": [],
   "source": [
    "eval_df = evaluate_models_cv_classification(models=models, \n",
    "                                            X_train=X_train_bow_float, \n",
    "                                            y_train=y_train, \n",
    "                                            n_folds=5)\n",
    "eval_df"
   ]
  },
  {
   "cell_type": "code",
   "execution_count": 133,
   "metadata": {},
   "outputs": [
    {
     "name": "stdout",
     "output_type": "stream",
     "text": [
      "              precision    recall  f1-score   support\n",
      "\n",
      "           0       0.77      0.89      0.83       869\n",
      "           1       0.82      0.65      0.72       654\n",
      "\n",
      "    accuracy                           0.79      1523\n",
      "   macro avg       0.80      0.77      0.78      1523\n",
      "weighted avg       0.79      0.79      0.78      1523\n",
      "\n",
      "0.7696955620541731\n"
     ]
    }
   ],
   "source": [
    "from sklearn.linear_model import LogisticRegression\n",
    "\n",
    "logwv = LogisticRegression()\n",
    "logwv.fit(X_train_bow, y_train)\n",
    "\n",
    "p = logwv.predict(X_test_bow)\n",
    "from sklearn.metrics import classification_report, roc_auc_score\n",
    "print(classification_report(y_test, p))\n",
    "print(roc_auc_score(y_test, p))"
   ]
  }
 ],
 "metadata": {
  "kernelspec": {
   "display_name": "Python 3",
   "language": "python",
   "name": "python3"
  },
  "language_info": {
   "codemirror_mode": {
    "name": "ipython",
    "version": 3
   },
   "file_extension": ".py",
   "mimetype": "text/x-python",
   "name": "python",
   "nbconvert_exporter": "python",
   "pygments_lexer": "ipython3",
   "version": "3.11.7"
  }
 },
 "nbformat": 4,
 "nbformat_minor": 2
}
